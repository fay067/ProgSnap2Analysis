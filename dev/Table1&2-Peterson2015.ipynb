{
 "cells": [
  {
   "cell_type": "code",
   "execution_count": 312,
   "metadata": {},
   "outputs": [],
   "source": [
    "# Table 1: Basic data set statistics System\n",
    "# For each dataset, output: 1) System, 2) Course, 3) Language, 4) Students number, 5) Exercises(in # Sets), 6) Compilation events(% with error)\n",
    "# What will be generated in this script: 1) System, 3) Language, 4) Students number, 5) Exercises, 6) Compilation events\n",
    "# Table 2: Per-session data set statistics Dataset\n",
    "# For each dataset, output: 1) Dataset, 2) Gap Time - Min Sessions, 3) Students number, 4) Compilation Events(% of total), 5) Sessions\n",
    "# What will be generated in this script: 1) Dataset, 2) Gap Time- Min Sessions, 3) Students number, 4) Compilation Events(% of total), 5) Sessions\n",
    "# Required format of input dataset: ProgSnap2\n",
    "\n",
    "import pandas as pd\n",
    "import datetime\n",
    "from datetime import timedelta"
   ]
  },
  {
   "cell_type": "code",
   "execution_count": 313,
   "metadata": {},
   "outputs": [],
   "source": [
    "# Dataset Input\n",
    "main_table_df = pd.read_csv(\"./data/MainTable.csv\")"
   ]
  },
  {
   "cell_type": "code",
   "execution_count": 314,
   "metadata": {},
   "outputs": [],
   "source": [
    "# Data Preperation (Peterson 2015): \n",
    "# 1) Remove submissions where no code changed between submissions\n",
    "# 2) Combine sequences of submissions into work sessions\n",
    "# 3) Drop sessions with few submissions and omitted students that do not have enough sessions to constitute a representative sample of behaviour\n",
    "\n",
    "def data_prep(main_table_df, subj, gap_time, min_sessions):\n",
    "    current_df = main_table_df.loc[main_table_df[\"SubjectID\"] == subj]\n",
    "    submit_df = current_df[current_df[\"EventType\"]==\"Submit\"]\n",
    "    compile_df = current_df[current_df[\"EventType\"]==\"Compile\"]\n",
    "    \n",
    "    for i in reversed(range(len(submit_df)-1)):\n",
    "        if submit_df[\"CodeStateID\"].iloc[i+1] == submit_df[\"CodeStateID\"].iloc[i]:\n",
    "            # Start to do 1):\n",
    "            submit_df = submit_df.drop(submit_df.index[i+1])\n",
    "        \n",
    "    # Initialize session(subj_session) to be ProblemID numbers for each subject, compile events(subj_compile) to be all compile events for each subject. If a subject has no usable data, usability turns False\n",
    "    subj_session = len(submit_df['ProblemID'].unique().tolist())\n",
    "    subj_compile = len(compile_df)\n",
    "    usability = True\n",
    "    # Begin calculating new subj_session and subj_compile with thresholds\n",
    "    # We assume each session only contains one exercise     \n",
    "    for prob in set(submit_df[\"ProblemID\"]):\n",
    "        prob_df = submit_df[submit_df[\"ProblemID\"] == prob]\n",
    "        prob_compile = len(compile_df[compile_df[\"ProblemID\"] == prob])\n",
    "\n",
    "        for j in reversed(range(len(prob_df)-1)):\n",
    "            datetimeFormat = '%Y-%m-%dT%H:%M:%S'\n",
    "            date1 = datetime.datetime.strptime(current_df[\"ServerTimestamp\"].iloc[j+1], datetimeFormat)\n",
    "            date2 = datetime.datetime.strptime(current_df[\"ServerTimestamp\"].iloc[j], datetimeFormat)\n",
    "            time_diff = ((((date1.month-date2.month)*30 + (date1.day-date2.day))*24 + (date1.hour-date2.hour))*60 + (date1.minute-date2.minute))*60 + (date1.second-date2.second)\n",
    "            # Threshold 1: if the duration between two consequtive submissions exceeds gap_time\n",
    "            if time_diff > gap_time:\n",
    "                subj_session = subj_session - 1\n",
    "                subj_compile = subj_compile - prob_compile\n",
    "                break\n",
    "            else:\n",
    "                # Threshold 2: min_sessions (Jadud's selection of min 7 distinct submission per session)\n",
    "                if len(prob_df) < min_sessions:\n",
    "                    subj_session = subj_session - 1\n",
    "                    subj_compile = subj_compile - prob_compile\n",
    "                    break\n",
    "        \n",
    "    if subj_session == 0 or subj_compile == 0:\n",
    "        usability = False\n",
    "    \n",
    "    return subj_session, subj_compile, usability"
   ]
  },
  {
   "cell_type": "code",
   "execution_count": 315,
   "metadata": {
    "scrolled": true
   },
   "outputs": [
    {
     "name": "stdout",
     "output_type": "stream",
     "text": [
      "ITAP  Python 89 38 2801 23.0%\n"
     ]
    }
   ],
   "source": [
    "# Calculate Table 1\n",
    "# We assume the dataset contains \"Compile\" and \"Compile.Error\" in EventType attribute\n",
    "# For the dataset which uses Python as programming languge, we assume that any error reported by Python results in a \"Compilation Failure\"\n",
    "\n",
    "# Get 1) and 3)\n",
    "if 'ToolInstances' in main_table_df.columns:\n",
    "    tool_instances_arr = main_table_df[\"ToolInstances\"].iloc[0].split(';')\n",
    "    system = tool_instances_arr[0]\n",
    "    if len(tool_instances_arr) > 1:\n",
    "        language = tool_instances_arr[1]\n",
    "    else:\n",
    "        language = 'N/A'\n",
    "else:\n",
    "    system = 'N/A'\n",
    "    language = 'N/A'\n",
    "# Get 4) and 5)\n",
    "students_num = len(main_table_df['SubjectID'].unique().tolist())\n",
    "exercises_num = len(main_table_df['ProblemID'].unique().tolist())\n",
    "# Get 6)\n",
    "compiles = main_table_df[main_table_df[\"EventType\"] == \"Compile\"]\n",
    "compilation_event = len(compiles)\n",
    "\n",
    "compile_errors = main_table_df[main_table_df[\"EventType\"] == \"Compile.Error\"]\n",
    "perc_w_error = '{:.1%}'.format(len(compile_errors)/compilation_event)\n",
    "\n",
    "print(system, language, students_num, exercises_num, compilation_event, perc_w_error)"
   ]
  },
  {
   "cell_type": "code",
   "execution_count": 316,
   "metadata": {},
   "outputs": [
    {
     "name": "stdout",
     "output_type": "stream",
     "text": [
      "ITAP( Python) 1200 7 76 1660 59.3% 549\n"
     ]
    }
   ],
   "source": [
    "# Calculate Table 2\n",
    "# We assume the dataset contains \"Compile\" and \"Compile.Error\" in EventType attribute\n",
    "# For the dataset which uses Python as programming languge, we assume that any error reported by Python results in a \"Compilation Failure\"\n",
    "# We assume each session contains one exercise\n",
    "\n",
    "# Get 1)\n",
    "if 'ToolInstances' in main_table_df.columns:\n",
    "    tool_instances_arr = main_table_df[\"ToolInstances\"].iloc[0].split(';')\n",
    "    system = tool_instances_arr[0]\n",
    "    if len(tool_instances_arr) > 1:\n",
    "        language = tool_instances_arr[1]\n",
    "    else:\n",
    "        language = 'N/A'\n",
    "else:\n",
    "    system = 'N/A'\n",
    "    language = 'N/A'\n",
    "dataset_name = system + '(' + language + ')'\n",
    "# Get 2)\n",
    "# Set thresholds, which can be changed according to different needs\n",
    "gap_time = 1200\n",
    "min_sessions = 7\n",
    "# Get 3), 4), 5)\n",
    "# Initialization:\n",
    "students = len(main_table_df['SubjectID'].unique().tolist())\n",
    "compilation_event = 0\n",
    "sessions = 0\n",
    "compiles = main_table_df[main_table_df[\"EventType\"] == \"Compile\"]\n",
    "total_compilation_event = len(compiles)\n",
    "# Begin calulate for each subject:\n",
    "for subj in set(main_table_df[\"SubjectID\"].loc[main_table_df[\"EventType\"]==\"Submit\"]):\n",
    "    #subj_data is an array contains (subj_session, subj_compile, usability)\n",
    "    subj_data = data_prep(main_table_df, subj, gap_time, min_sessions)\n",
    "    if subj_data[2] == False:\n",
    "        students = students - 1\n",
    "    sessions = sessions + subj_data[0]\n",
    "    compilation_event = compilation_event + subj_data[1]\n",
    "perc_of_total = '{:.1%}'.format(compilation_event/total_compilation_event)\n",
    "\n",
    "print(dataset_name, gap_time, min_sessions, students, compilation_event, perc_of_total, sessions)"
   ]
  }
 ],
 "metadata": {
  "kernelspec": {
   "display_name": "Python 3",
   "language": "python",
   "name": "python3"
  },
  "language_info": {
   "codemirror_mode": {
    "name": "ipython",
    "version": 3
   },
   "file_extension": ".py",
   "mimetype": "text/x-python",
   "name": "python",
   "nbconvert_exporter": "python",
   "pygments_lexer": "ipython3",
   "version": "3.7.1"
  }
 },
 "nbformat": 4,
 "nbformat_minor": 2
}
