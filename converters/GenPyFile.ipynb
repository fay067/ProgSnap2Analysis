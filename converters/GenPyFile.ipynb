{
 "cells": [
  {
   "cell_type": "code",
   "execution_count": 218,
   "metadata": {},
   "outputs": [],
   "source": [
    "%matplotlib inline\n",
    "import numpy as np\n",
    "import pandas as pd\n",
    "import re\n",
    "import matplotlib.pyplot as plt"
   ]
  },
  {
   "cell_type": "code",
   "execution_count": 2,
   "metadata": {},
   "outputs": [],
   "source": [
    "data = pd.read_csv(\"./CodeStates/CodeState.csv\")"
   ]
  },
  {
   "cell_type": "code",
   "execution_count": 5,
   "metadata": {},
   "outputs": [],
   "source": [
    "#only CodeStateID = 1024 is NA, generate all other codes to .py seperately\n",
    "for i in range(1,2371):\n",
    "    if i != 1024:\n",
    "        with open(\"./pys/hw_\" + str(i) + \".py\",\"w\") as myfile:\n",
    "            myfile.write(data[\"Code\"][i-1])"
   ]
  },
  {
   "cell_type": "code",
   "execution_count": 1,
   "metadata": {},
   "outputs": [],
   "source": [
    "#write windows .bat file to run each .py automatically and output stderr to .txt files\n",
    "#need to manually execute this .bat file from directory\n",
    "with open(\"run.bat\", \"w\") as myfile:\n",
    "    for i in range(1,2371):\n",
    "        if i != 1024:\n",
    "            myfile.write(\"python hw_\" + str(i) + \".py > result_\" + str(i) + \".txt 2>&1 \\n\")"
   ]
  },
  {
   "cell_type": "code",
   "execution_count": 42,
   "metadata": {},
   "outputs": [],
   "source": [
    "#input result file to list \n",
    "results = {}\n",
    "\n",
    "for i in range(1,2371):\n",
    "    if i != 1024:\n",
    "        with open(\"./pys/result_\" + str(i) + \".txt\", \"r\") as myfile:\n",
    "            results[i] = \"\".join(myfile.readlines())"
   ]
  },
  {
   "cell_type": "code",
   "execution_count": 56,
   "metadata": {},
   "outputs": [],
   "source": [
    "#convert list into pandas dataframe\n",
    "results_df = pd.DataFrame.from_dict(results, orient=\"index\", columns=[\"Code\"])"
   ]
  },
  {
   "cell_type": "code",
   "execution_count": 59,
   "metadata": {},
   "outputs": [],
   "source": [
    "#generate \"IsErr, ErrLoc, ErrType\", ErrLineLoc, ErrLine\" attributes\n",
    "results_df[\"IsErr\"] = [\"No\" if i.find(\"Error\")==-1 else \"Yes\" for i in results_df[\"Code\"]]\n",
    "\n",
    "results_df[\"ErrLoc\"] = [i.find(\"Error\") if i.find(\"Error\")!=-1 else np.nan for i in results_df[\"Code\"]]\n",
    "\n",
    "results_df[\"ErrType\"] = [results_df[\"Code\"][i][int(results_df[\"ErrLoc\"][i])-15:int(results_df[\"ErrLoc\"][i])] if results_df[\"IsErr\"][i]==\"Yes\" else \"N/A\" for i in range(1,1024)+range(1025,2371)]\n",
    "\n",
    "results_df[\"ErrType\"] = [i[int(re.search(r'^([^A-Z]*[A-Z]){1}',i).span()[1])-1:] if i!=\"N/A\" else \"N/A\" for i in results_df[\"ErrType\"]]\n",
    "\n",
    "results_df[\"ErrLineLoc\"] = [results_df[\"Code\"][i].find(\"line\") if results_df[\"IsErr\"][i] == \"Yes\" else \"N/A\" for i in range(1,1024)+range(1025,2371)]\n",
    "\n",
    "results_df[\"ErrLine\"] = [results_df[\"Code\"][i][results_df[\"ErrLineLoc\"][i]+4:results_df[\"ErrLineLoc\"][i]+7].replace(\"\\n\",\"\") if results_df[\"IsErr\"][i]==\"Yes\" else np.nan for i in range(1,1024)+range(1025,2371)]"
   ]
  },
  {
   "cell_type": "code",
   "execution_count": 136,
   "metadata": {},
   "outputs": [],
   "source": [
    "#save error information to .csv\n",
    "results_df.to_csv(\"ErrorType.csv\")"
   ]
  },
  {
   "cell_type": "code",
   "execution_count": 152,
   "metadata": {},
   "outputs": [],
   "source": [
    "#open main_table and input \"IsErr, ErrType, ErrLine\" attributes to column\n",
    "main_table_df = pd.read_csv(\"MainTable.csv\")\n",
    "\n",
    "main_table_df[\"IsErr\"] = [results_df[\"IsErr\"][i] if i!=1024 else \"NO_SUBMISSION\" for i in main_table_df[\"CodeStateID\"]]\n",
    "\n",
    "main_table_df[\"ErrType\"] = [results_df[\"ErrType\"][i] if i!=1024 else \"NO_SUBMISSION\" for i in main_table_df[\"CodeStateID\"]]\n",
    "\n",
    "main_table_df[\"ErrLine\"] = [results_df[\"ErrLine\"][i] if i!=1024 else \"NO_SUBMISSION\" for i in main_table_df[\"CodeStateID\"]]\n",
    "\n"
   ]
  },
  {
   "cell_type": "code",
   "execution_count": 203,
   "metadata": {},
   "outputs": [],
   "source": [
    "#calculate EQ of each student who has \"submit\" event. For whom only submitted once, EQ = 0.0\n",
    "EQ_dict = {}\n",
    "\n",
    "for s in set(main_table_df[\"SubjectID\"].loc[main_table_df[\"EventType\"]==\"Submit\"]):\n",
    "#     print s\n",
    "    current_df = main_table_df.loc[main_table_df[\"SubjectID\"] == s]\n",
    "    current_df = current_df[current_df[\"EventType\"]==\"Submit\"]\n",
    "    score = 0\n",
    "    if len(current_df) <= 1:\n",
    "        EQ = 0\n",
    "    else:\n",
    "        for i in range(len(current_df)-1):\n",
    "            if current_df[\"IsErr\"].iloc[i] == \"Yes\" and current_df[\"IsErr\"].iloc[i+1] == \"Yes\":\n",
    "                score += 8\n",
    "                if current_df[\"ErrType\"].iloc[i] == current_df[\"ErrType\"].iloc[i+1]:\n",
    "                    score += 3\n",
    "        EQ = (score/11.)/(len(current_df)-1.)\n",
    "        EQ_dict[s] = EQ\n",
    "\n",
    "main_table_df[\"EQ\"] = [EQ_dict[i] if i in EQ_dict.keys() else 0  for i in main_table_df[\"SubjectID\"]]"
   ]
  },
  {
   "cell_type": "code",
   "execution_count": 206,
   "metadata": {},
   "outputs": [],
   "source": [
    "#calculate error frequence of each student(it's not used in EQ distribution plot)\n",
    "Freq_dict = {}\n",
    "\n",
    "for s in set(main_table_df[\"SubjectID\"].loc[main_table_df[\"EventType\"]==\"Submit\"]):\n",
    "#     print s\n",
    "    current_df = main_table_df.loc[main_table_df[\"SubjectID\"] == s]\n",
    "    current_df = current_df[current_df[\"EventType\"]==\"Submit\"]\n",
    "    current_df = current_df[current_df[\"IsErr\"]==\"Yes\"]\n",
    "    Freq_dict[s] = len(current_df)\n",
    "\n",
    "main_table_df[\"Freq\"] = [Freq_dict[i] if i in Freq_dict.keys() else 0  for i in main_table_df[\"SubjectID\"]]"
   ]
  },
  {
   "cell_type": "code",
   "execution_count": 229,
   "metadata": {},
   "outputs": [],
   "source": [
    "#save new table to MainTable_processed.csv\n",
    "main_table_df.to_csv(\"MainTable_processed.csv\")"
   ]
  },
  {
   "cell_type": "code",
   "execution_count": 234,
   "metadata": {
    "scrolled": false
   },
   "outputs": [
    {
     "data": {
      "image/png": "[encoded data removed]",
      "text/plain": [
       "<Figure size 720x504 with 1 Axes>"
      ]
     },
     "metadata": {
      "needs_background": "light"
     },
     "output_type": "display_data"
    }
   ],
   "source": [
    "#generate EQ distribution\n",
    "fig = plt.figure(figsize=(10,7))\n",
    "ax = fig.add_subplot(111)\n",
    "ax.hist(EQ_dict.values())\n",
    "plt.savefig(\"dist_EQ.png\", format=\"png\")"
   ]
  },
  {
   "cell_type": "code",
   "execution_count": null,
   "metadata": {},
   "outputs": [],
   "source": []
  }
 ],
 "metadata": {
  "kernelspec": {
   "display_name": "Python 2",
   "language": "python",
   "name": "python2"
  },
  "language_info": {
   "codemirror_mode": {
    "name": "ipython",
    "version": 2
   },
   "file_extension": ".py",
   "mimetype": "text/x-python",
   "name": "python",
   "nbconvert_exporter": "python",
   "pygments_lexer": "ipython2",
   "version": "2.7.16"
  }
 },
 "nbformat": 4,
 "nbformat_minor": 2
}
